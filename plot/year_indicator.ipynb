{
 "cells": [
  {
   "cell_type": "code",
   "id": "initial_id",
   "metadata": {
    "collapsed": true,
    "ExecuteTime": {
     "end_time": "2025-10-16T04:26:42.680581Z",
     "start_time": "2025-10-16T04:26:30.728128Z"
    }
   },
   "source": [
    "from src.indicator import indicator\n",
    "import pandas as pd\n",
    "import numpy as np\n",
    "\n",
    "test_time = 'now'\n",
    "model_name = 'Value KL 2M BT'\n",
    "\n",
    "dn_pd = pd.read_parquet(f'../plotdata/{model_name}.parquet')\n",
    "year_list = [\n",
    "    [pd.to_datetime('2020-01-01'),pd.to_datetime('2021-01-01')],\n",
    "    [pd.to_datetime('2021-01-01'),pd.to_datetime('2022-01-01')],\n",
    "    [pd.to_datetime('2022-01-01'),pd.to_datetime('2023-01-01')]\n",
    "]\n",
    "\n",
    "for period in year_list:\n",
    "    start_date = period[0]\n",
    "    end_date = period[1]\n",
    "    year_dn_pd = dn_pd[(dn_pd['trade_date'] >= start_date) & (dn_pd['trade_date'] < end_date)]\n",
    "    indicator(year_dn_pd.copy(deep=True), test_time, model_name)\n"
   ],
   "outputs": [
    {
     "name": "stdout",
     "output_type": "stream",
     "text": [
      "                  net_value  market_portfolio\n",
      "net_value          1.000000          0.986192\n",
      "market_portfolio   0.986192          1.000000\n",
      "从: 2020-01-02 00:00:00 到: 2020-12-31 00:00:00\n",
      "投资时长: 364天, 或 1.00年\n",
      "期初净值: 299937011.12元\n",
      "期末净值: 374407188.75元\n",
      "净增长：74470177.63元\n",
      "年化对数收益率: 22.238%\n",
      "总对数收益率: 22.177%\n",
      "年化超额收益率: 20.538%\n",
      "年化波动率: 22.184%\n",
      "夏普比率: 0.9258\n",
      "最大回撤: 14.229%\n",
      "                  net_value  market_portfolio\n",
      "net_value          1.000000          0.870762\n",
      "market_portfolio   0.870762          1.000000\n",
      "从: 2021-01-04 00:00:00 到: 2021-12-31 00:00:00\n",
      "投资时长: 361天, 或 0.99年\n",
      "期初净值: 381784484.15元\n",
      "期末净值: 342129699.78元\n",
      "净增长：-39654784.37元\n",
      "年化对数收益率: -11.088%\n",
      "总对数收益率: -10.967%\n",
      "年化超额收益率: -12.788%\n",
      "年化波动率: 15.849%\n",
      "夏普比率: -0.8069\n",
      "最大回撤: 24.159%\n",
      "                  net_value  market_portfolio\n",
      "net_value          1.000000          0.460167\n",
      "market_portfolio   0.460167          1.000000\n",
      "从: 2022-01-04 00:00:00 到: 2022-12-30 00:00:00\n",
      "投资时长: 360天, 或 0.99年\n",
      "期初净值: 343107751.48元\n",
      "期末净值: 327617166.80元\n",
      "净增长：-15490584.68元\n",
      "年化对数收益率: -4.684%\n",
      "总对数收益率: -4.620%\n",
      "年化超额收益率: -6.384%\n",
      "年化波动率: 14.662%\n",
      "夏普比率: -0.4354\n",
      "最大回撤: 15.601%\n"
     ]
    }
   ],
   "execution_count": 2
  },
  {
   "metadata": {
    "ExecuteTime": {
     "end_time": "2025-10-16T04:26:52.891856Z",
     "start_time": "2025-10-16T04:26:52.878168Z"
    }
   },
   "cell_type": "code",
   "source": [
    "test_time = 'now'\n",
    "model_name = 'MV KL 2M R'\n",
    "\n",
    "dn_pd = pd.read_parquet(f'../plotdata/{model_name}.parquet')\n",
    "year_list = [\n",
    "    [pd.to_datetime('2023-01-01'),pd.to_datetime('2024-01-01')],\n",
    "    [pd.to_datetime('2024-01-01'),pd.to_datetime('2025-01-01')],\n",
    "    [pd.to_datetime('2025-01-01'),pd.to_datetime('2026-01-01')]\n",
    "]\n",
    "\n",
    "for period in year_list:\n",
    "    start_date = period[0]\n",
    "    end_date = period[1]\n",
    "    year_dn_pd = dn_pd[(dn_pd['trade_date'] >= start_date) & (dn_pd['trade_date'] < end_date)]\n",
    "    indicator(year_dn_pd.copy(deep=True), test_time, model_name)"
   ],
   "id": "497e2d28ed59f62d",
   "outputs": [
    {
     "name": "stdout",
     "output_type": "stream",
     "text": [
      "                  net_value  market_portfolio\n",
      "net_value          1.000000          0.967883\n",
      "market_portfolio   0.967883          1.000000\n",
      "从: 2023-01-03 00:00:00 到: 2023-12-29 00:00:00\n",
      "投资时长: 360天, 或 0.99年\n",
      "期初净值: 299937025.04元\n",
      "期末净值: 270672528.49元\n",
      "净增长：-29264496.54元\n",
      "年化对数收益率: -10.409%\n",
      "总对数收益率: -10.266%\n",
      "年化超额收益率: -12.109%\n",
      "年化波动率: 15.374%\n",
      "夏普比率: -0.7876\n",
      "最大回撤: 24.543%\n",
      "                  net_value  market_portfolio\n",
      "net_value          1.000000          0.977057\n",
      "market_portfolio   0.977057          1.000000\n",
      "从: 2024-01-02 00:00:00 到: 2024-12-31 00:00:00\n",
      "投资时长: 364天, 或 1.00年\n",
      "期初净值: 271348020.42元\n",
      "期末净值: 322395958.41元\n",
      "净增长：51047937.99元\n",
      "年化对数收益率: 17.285%\n",
      "总对数收益率: 17.238%\n",
      "年化超额收益率: 15.585%\n",
      "年化波动率: 27.755%\n",
      "夏普比率: 0.5615\n",
      "最大回撤: 20.575%\n",
      "                  net_value  market_portfolio\n",
      "net_value          1.000000          0.910958\n",
      "market_portfolio   0.910958          1.000000\n",
      "从: 2025-01-02 00:00:00 到: 2025-08-28 00:00:00\n",
      "投资时长: 238天, 或 0.65年\n",
      "期初净值: 316474517.25元\n",
      "期末净值: 363251468.08元\n",
      "净增长：46776950.83元\n",
      "年化对数收益率: 21.141%\n",
      "总对数收益率: 13.785%\n",
      "年化超额收益率: 19.441%\n",
      "年化波动率: 13.356%\n",
      "夏普比率: 1.4557\n",
      "最大回撤: 6.751%\n"
     ]
    }
   ],
   "execution_count": 3
  }
 ],
 "metadata": {
  "kernelspec": {
   "display_name": "Python 3",
   "language": "python",
   "name": "python3"
  },
  "language_info": {
   "codemirror_mode": {
    "name": "ipython",
    "version": 2
   },
   "file_extension": ".py",
   "mimetype": "text/x-python",
   "name": "python",
   "nbconvert_exporter": "python",
   "pygments_lexer": "ipython2",
   "version": "2.7.6"
  }
 },
 "nbformat": 4,
 "nbformat_minor": 5
}
