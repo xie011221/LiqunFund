{
 "cells": [
  {
   "metadata": {
    "ExecuteTime": {
     "end_time": "2025-10-11T12:32:27.006065Z",
     "start_time": "2025-10-11T12:32:26.809009Z"
    }
   },
   "cell_type": "code",
   "source": [
    "import pandas as pd\n",
    "import matplotlib.pyplot as plt\n",
    "import matplotlib\n",
    "\n",
    "plt.rcParams['font.sans-serif'] = ['Microsoft YaHei']  # 微软雅黑\n",
    "\n",
    "holding_calendar = pd.read_parquet('../plotdata/Calendar MV KL 2M R.parquet')\n",
    "stock_df = pd.read_parquet('../data/stock_list.parquet')\n",
    "market = pd.read_parquet('../data/market.parquet')\n",
    "\n",
    "magic_df = pd.DataFrame({'share_code':['601989.SH'],\n",
    "                         'industry':['军事工业']})\n",
    "\n",
    "\n",
    "# 2023-01-03\n",
    "# 2024-01-02\n",
    "# 2025-01-02\n",
    "first_period_holding = holding_calendar[holding_calendar['trade_date'] == pd.to_datetime('2025-01-02')].copy(deep=True)\n",
    "\n",
    "first_period_holding = pd.merge(first_period_holding, stock_df, how='left', on='share_code')\n",
    "first_period_holding = first_period_holding[first_period_holding['share_code'] != '601989.SH']\n",
    "first_period_holding = pd.concat([first_period_holding, magic_df])\n",
    "\n",
    "first_period_holding = pd.merge(first_period_holding, market, how='left', on=['share_code','trade_date'])\n",
    "\n",
    "first_period_holding['value'] = first_period_holding['quantity'] * first_period_holding['price']\n",
    "\n",
    "first_period_holding['weight'] = first_period_holding['value'] / first_period_holding['value'].sum()\n",
    "\n",
    "industry_num = first_period_holding['industry'].value_counts()\n",
    "industry_weight = first_period_holding.groupby('industry')['weight'].sum()\n",
    "\n",
    "sorted_industry_weight = first_period_holding.sort_values('weight',ascending=False)[['share_code','name','weight']]"
   ],
   "id": "933d2ccabe1c92cd",
   "outputs": [],
   "execution_count": 6
  }
 ],
 "metadata": {
  "kernelspec": {
   "display_name": "Python 3",
   "language": "python",
   "name": "python3"
  },
  "language_info": {
   "codemirror_mode": {
    "name": "ipython",
    "version": 2
   },
   "file_extension": ".py",
   "mimetype": "text/x-python",
   "name": "python",
   "nbconvert_exporter": "python",
   "pygments_lexer": "ipython2",
   "version": "2.7.6"
  }
 },
 "nbformat": 4,
 "nbformat_minor": 5
}
