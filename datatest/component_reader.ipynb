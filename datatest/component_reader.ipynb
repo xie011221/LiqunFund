{
 "cells": [
  {
   "metadata": {},
   "cell_type": "markdown",
   "source": "PyCharm不自带查看parquet文件的方法，只好起一个jupyter来测试和查看",
   "id": "ca4310c3f83382b8"
  },
  {
   "metadata": {
    "ExecuteTime": {
     "end_time": "2025-10-11T01:54:39.939674Z",
     "start_time": "2025-10-11T01:54:39.682040Z"
    }
   },
   "cell_type": "code",
   "source": [
    "import pandas as pd\n",
    "\n",
    "component_df = pd.read_parquet('../data/component_full.parquet')"
   ],
   "id": "b6b06790128c5120",
   "outputs": [],
   "execution_count": 1
  },
  {
   "metadata": {
    "ExecuteTime": {
     "end_time": "2025-10-10T15:11:14.420801Z",
     "start_time": "2025-10-10T15:11:14.415720Z"
    }
   },
   "cell_type": "code",
   "source": "component = pd.read_parquet('../data/component.parquet')",
   "id": "5b7c03b97504c54a",
   "outputs": [],
   "execution_count": 13
  },
  {
   "metadata": {
    "ExecuteTime": {
     "end_time": "2025-10-11T02:35:44.972134Z",
     "start_time": "2025-10-11T02:35:44.938798Z"
    }
   },
   "cell_type": "code",
   "source": "component_calendar = pd.read_parquet('../data/component_calendar.parquet')",
   "id": "51ee7af7fb28c678",
   "outputs": [],
   "execution_count": 4
  },
  {
   "metadata": {
    "ExecuteTime": {
     "end_time": "2025-10-11T03:02:50.989622Z",
     "start_time": "2025-10-11T03:02:50.985072Z"
    }
   },
   "cell_type": "code",
   "source": "dividend = pd.read_parquet('../data/dividend.parquet')",
   "id": "850e9838fcb0674f",
   "outputs": [],
   "execution_count": 7
  },
  {
   "metadata": {
    "ExecuteTime": {
     "end_time": "2025-10-10T14:54:37.497300Z",
     "start_time": "2025-10-10T14:54:37.492708Z"
    }
   },
   "cell_type": "code",
   "source": "experiment_dataset = pd.read_parquet('../plotdata/experiment_dataset.parquet')",
   "id": "44666c301b96b295",
   "outputs": [],
   "execution_count": 5
  },
  {
   "metadata": {
    "ExecuteTime": {
     "end_time": "2025-10-10T14:54:37.505559Z",
     "start_time": "2025-10-10T14:54:37.500669Z"
    }
   },
   "cell_type": "code",
   "source": "portfolio_calendar = pd.read_parquet('../plotdata/Calendar Equal Full Rebalance=50.parquet')",
   "id": "2503846562a5e71a",
   "outputs": [],
   "execution_count": 6
  },
  {
   "metadata": {
    "ExecuteTime": {
     "end_time": "2025-10-11T01:54:39.953862Z",
     "start_time": "2025-10-11T01:54:39.948174Z"
    }
   },
   "cell_type": "code",
   "source": "suspend = pd.read_parquet('../data/suspend.parquet')",
   "id": "c7eefb1d927eb9ce",
   "outputs": [],
   "execution_count": 2
  }
 ],
 "metadata": {
  "kernelspec": {
   "display_name": "Python 3",
   "language": "python",
   "name": "python3"
  },
  "language_info": {
   "codemirror_mode": {
    "name": "ipython",
    "version": 2
   },
   "file_extension": ".py",
   "mimetype": "text/x-python",
   "name": "python",
   "nbconvert_exporter": "python",
   "pygments_lexer": "ipython2",
   "version": "2.7.6"
  }
 },
 "nbformat": 4,
 "nbformat_minor": 5
}
