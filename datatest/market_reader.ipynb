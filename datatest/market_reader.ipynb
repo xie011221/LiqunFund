{
 "cells": [
  {
   "cell_type": "code",
   "id": "initial_id",
   "metadata": {
    "collapsed": true,
    "ExecuteTime": {
     "end_time": "2025-10-16T10:40:00.800781Z",
     "start_time": "2025-10-16T10:40:00.598319Z"
    }
   },
   "source": [
    "import pandas as pd\n",
    "import numpy as np"
   ],
   "outputs": [],
   "execution_count": 1
  },
  {
   "metadata": {
    "ExecuteTime": {
     "end_time": "2025-10-16T10:40:00.921769Z",
     "start_time": "2025-10-16T10:40:00.805182Z"
    }
   },
   "cell_type": "code",
   "source": "raw_market = pd.read_parquet('../data/raw_market.parquet')",
   "id": "734a742adc1be922",
   "outputs": [],
   "execution_count": 2
  },
  {
   "metadata": {
    "ExecuteTime": {
     "end_time": "2025-10-16T10:40:00.980877Z",
     "start_time": "2025-10-16T10:40:00.926174Z"
    }
   },
   "cell_type": "code",
   "source": "market = pd.read_parquet('../data/market.parquet')",
   "id": "f4c20907c8504271",
   "outputs": [],
   "execution_count": 3
  },
  {
   "metadata": {
    "ExecuteTime": {
     "end_time": "2025-10-16T10:40:01.378404Z",
     "start_time": "2025-10-16T10:40:00.985872Z"
    }
   },
   "cell_type": "code",
   "source": [
    "hfq_market = pd.read_parquet('../data/hfq_market.parquet')\n",
    "\n",
    "hfq_market = hfq_market.sort_values(['share_code', 'trade_date']).reset_index(drop=True)\n",
    "hfq_market['log_return'] = hfq_market.groupby('share_code')['open'].apply(\n",
    "            lambda x: np.log(x / x.shift(1))).reset_index(drop=True)\n",
    "\n"
   ],
   "id": "eecebeec43709010",
   "outputs": [],
   "execution_count": 4
  },
  {
   "metadata": {
    "ExecuteTime": {
     "end_time": "2025-10-16T10:40:01.463501Z",
     "start_time": "2025-10-16T10:40:01.382430Z"
    }
   },
   "cell_type": "code",
   "source": "basic = pd.read_parquet('../data/basic.parquet')",
   "id": "847fdac26b19941e",
   "outputs": [],
   "execution_count": 5
  },
  {
   "metadata": {
    "ExecuteTime": {
     "end_time": "2025-10-16T10:40:01.472473Z",
     "start_time": "2025-10-16T10:40:01.467909Z"
    }
   },
   "cell_type": "code",
   "source": "hs300_market = pd.read_parquet('../data/hs300_market.parquet')",
   "id": "c2816b0366ec6ff3",
   "outputs": [],
   "execution_count": 6
  },
  {
   "metadata": {
    "ExecuteTime": {
     "end_time": "2025-10-16T10:40:01.482398Z",
     "start_time": "2025-10-16T10:40:01.477645Z"
    }
   },
   "cell_type": "code",
   "source": [
    "\n",
    "\n",
    "# 示例DataFrame\n",
    "df1 = pd.DataFrame({\n",
    "    'A': [1, 2, 3, 4],\n",
    "    'B': ['a', 'b', 'c', 'd']\n",
    "})\n",
    "\n",
    "df2 = pd.DataFrame({\n",
    "    'A': [2, 3]\n",
    "})\n",
    "\n",
    "# 使用isin来过滤出不在df2中的行\n",
    "result = df1[~df1['A'].isin(df2['A'])]\n",
    "print(result)\n"
   ],
   "id": "a8979ade5090e16",
   "outputs": [
    {
     "name": "stdout",
     "output_type": "stream",
     "text": [
      "   A  B\n",
      "0  1  a\n",
      "3  4  d\n"
     ]
    }
   ],
   "execution_count": 7
  }
 ],
 "metadata": {
  "kernelspec": {
   "display_name": "Python 3",
   "language": "python",
   "name": "python3"
  },
  "language_info": {
   "codemirror_mode": {
    "name": "ipython",
    "version": 2
   },
   "file_extension": ".py",
   "mimetype": "text/x-python",
   "name": "python",
   "nbconvert_exporter": "python",
   "pygments_lexer": "ipython2",
   "version": "2.7.6"
  }
 },
 "nbformat": 4,
 "nbformat_minor": 5
}
